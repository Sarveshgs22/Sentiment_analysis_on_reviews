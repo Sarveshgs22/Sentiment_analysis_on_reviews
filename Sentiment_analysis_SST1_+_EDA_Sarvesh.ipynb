{
  "nbformat": 4,
  "nbformat_minor": 0,
  "metadata": {
    "accelerator": "GPU",
    "colab": {
      "name": "Sentiment analysis_SST1 + EDA_Sarvesh.ipynb",
      "provenance": [],
      "collapsed_sections": []
    },
    "kernelspec": {
      "display_name": "Python 3",
      "name": "python3"
    }
  },
  "cells": [
    {
      "cell_type": "markdown",
      "metadata": {
        "id": "IjxfgWL6GTI8"
      },
      "source": [
        "#Submitted by Sarvesh Gurumurthy for 73 Strings ML internship"
      ]
    },
    {
      "cell_type": "code",
      "metadata": {
        "id": "pCVzVMYttjEX"
      },
      "source": [
        "# Importing the necessary libraries\n",
        "import tensorflow as tf\n",
        "import numpy as np\n",
        "import pandas as pd\n",
        "import matplotlib.pyplot as plt\n",
        "import seaborn as sns"
      ],
      "execution_count": 1,
      "outputs": []
    },
    {
      "cell_type": "code",
      "metadata": {
        "id": "n6p922eft6kO"
      },
      "source": [
        "#Mounting the drive"
      ],
      "execution_count": 2,
      "outputs": []
    },
    {
      "cell_type": "code",
      "metadata": {
        "id": "WxqS6EVav9DI"
      },
      "source": [
        "fin=open(\"sentiment_labels.txt\",'rt',encoding='utf-8')#please make sure the text file is in the same directory where you run the project\n",
        "s = {'Phrase_id':[],'Sentiment_values':[]}\n",
        "for line in fin:\n",
        "  s['Phrase_id'].append(line.split('|')[0])\n",
        "  s['Sentiment_values'].append(line.split('|')[1].rstrip('\\n'))\n",
        "df1 = pd.DataFrame(s)\n"
      ],
      "execution_count": 3,
      "outputs": []
    },
    {
      "cell_type": "code",
      "metadata": {
        "id": "TJ0PdHi3OTbx"
      },
      "source": [
        "#df1 is for sentiment values"
      ],
      "execution_count": 4,
      "outputs": []
    },
    {
      "cell_type": "code",
      "metadata": {
        "id": "p73-pzxq1kLy",
        "outputId": "79dfb7a4-83ad-4ea0-b47d-24e31a147f5a",
        "colab": {
          "base_uri": "https://localhost:8080/",
          "height": 195
        }
      },
      "source": [
        "df1.head()"
      ],
      "execution_count": 5,
      "outputs": [
        {
          "output_type": "execute_result",
          "data": {
            "text/html": [
              "<div>\n",
              "<style scoped>\n",
              "    .dataframe tbody tr th:only-of-type {\n",
              "        vertical-align: middle;\n",
              "    }\n",
              "\n",
              "    .dataframe tbody tr th {\n",
              "        vertical-align: top;\n",
              "    }\n",
              "\n",
              "    .dataframe thead th {\n",
              "        text-align: right;\n",
              "    }\n",
              "</style>\n",
              "<table border=\"1\" class=\"dataframe\">\n",
              "  <thead>\n",
              "    <tr style=\"text-align: right;\">\n",
              "      <th></th>\n",
              "      <th>Phrase_id</th>\n",
              "      <th>Sentiment_values</th>\n",
              "    </tr>\n",
              "  </thead>\n",
              "  <tbody>\n",
              "    <tr>\n",
              "      <th>0</th>\n",
              "      <td>phrase ids</td>\n",
              "      <td>sentiment values</td>\n",
              "    </tr>\n",
              "    <tr>\n",
              "      <th>1</th>\n",
              "      <td>0</td>\n",
              "      <td>0.5</td>\n",
              "    </tr>\n",
              "    <tr>\n",
              "      <th>2</th>\n",
              "      <td>1</td>\n",
              "      <td>0.5</td>\n",
              "    </tr>\n",
              "    <tr>\n",
              "      <th>3</th>\n",
              "      <td>2</td>\n",
              "      <td>0.44444</td>\n",
              "    </tr>\n",
              "    <tr>\n",
              "      <th>4</th>\n",
              "      <td>3</td>\n",
              "      <td>0.5</td>\n",
              "    </tr>\n",
              "  </tbody>\n",
              "</table>\n",
              "</div>"
            ],
            "text/plain": [
              "    Phrase_id  Sentiment_values\n",
              "0  phrase ids  sentiment values\n",
              "1           0               0.5\n",
              "2           1               0.5\n",
              "3           2           0.44444\n",
              "4           3               0.5"
            ]
          },
          "metadata": {
            "tags": []
          },
          "execution_count": 5
        }
      ]
    },
    {
      "cell_type": "code",
      "metadata": {
        "id": "H650XDLS3N99"
      },
      "source": [
        "df1 = df1.drop([0])\n",
        "#for dropping the first row which is no use to us now"
      ],
      "execution_count": 6,
      "outputs": []
    },
    {
      "cell_type": "code",
      "metadata": {
        "id": "F1NMIm5k3P3_",
        "outputId": "3fa53a00-3cb6-47e7-b188-cf16b773e653",
        "colab": {
          "base_uri": "https://localhost:8080/",
          "height": 252
        }
      },
      "source": [
        "df1.reset_index\n",
        "#reseting the index of the dataframe"
      ],
      "execution_count": 7,
      "outputs": [
        {
          "output_type": "execute_result",
          "data": {
            "text/plain": [
              "<bound method DataFrame.reset_index of        Phrase_id Sentiment_values\n",
              "1              0              0.5\n",
              "2              1              0.5\n",
              "3              2          0.44444\n",
              "4              3              0.5\n",
              "5              4          0.42708\n",
              "...          ...              ...\n",
              "239228    239227          0.36111\n",
              "239229    239228          0.38889\n",
              "239230    239229          0.33333\n",
              "239231    239230          0.88889\n",
              "239232    239231              0.5\n",
              "\n",
              "[239232 rows x 2 columns]>"
            ]
          },
          "metadata": {
            "tags": []
          },
          "execution_count": 7
        }
      ]
    },
    {
      "cell_type": "code",
      "metadata": {
        "id": "MnW74h8x44ld",
        "outputId": "aa11c77f-2267-4eeb-adf1-06e9aeab5dad",
        "colab": {
          "base_uri": "https://localhost:8080/",
          "height": 195
        }
      },
      "source": [
        "df1.head()"
      ],
      "execution_count": 8,
      "outputs": [
        {
          "output_type": "execute_result",
          "data": {
            "text/html": [
              "<div>\n",
              "<style scoped>\n",
              "    .dataframe tbody tr th:only-of-type {\n",
              "        vertical-align: middle;\n",
              "    }\n",
              "\n",
              "    .dataframe tbody tr th {\n",
              "        vertical-align: top;\n",
              "    }\n",
              "\n",
              "    .dataframe thead th {\n",
              "        text-align: right;\n",
              "    }\n",
              "</style>\n",
              "<table border=\"1\" class=\"dataframe\">\n",
              "  <thead>\n",
              "    <tr style=\"text-align: right;\">\n",
              "      <th></th>\n",
              "      <th>Phrase_id</th>\n",
              "      <th>Sentiment_values</th>\n",
              "    </tr>\n",
              "  </thead>\n",
              "  <tbody>\n",
              "    <tr>\n",
              "      <th>1</th>\n",
              "      <td>0</td>\n",
              "      <td>0.5</td>\n",
              "    </tr>\n",
              "    <tr>\n",
              "      <th>2</th>\n",
              "      <td>1</td>\n",
              "      <td>0.5</td>\n",
              "    </tr>\n",
              "    <tr>\n",
              "      <th>3</th>\n",
              "      <td>2</td>\n",
              "      <td>0.44444</td>\n",
              "    </tr>\n",
              "    <tr>\n",
              "      <th>4</th>\n",
              "      <td>3</td>\n",
              "      <td>0.5</td>\n",
              "    </tr>\n",
              "    <tr>\n",
              "      <th>5</th>\n",
              "      <td>4</td>\n",
              "      <td>0.42708</td>\n",
              "    </tr>\n",
              "  </tbody>\n",
              "</table>\n",
              "</div>"
            ],
            "text/plain": [
              "  Phrase_id Sentiment_values\n",
              "1         0              0.5\n",
              "2         1              0.5\n",
              "3         2          0.44444\n",
              "4         3              0.5\n",
              "5         4          0.42708"
            ]
          },
          "metadata": {
            "tags": []
          },
          "execution_count": 8
        }
      ]
    },
    {
      "cell_type": "code",
      "metadata": {
        "id": "mEprfAYL49Su",
        "outputId": "509f4425-3bd4-4118-b7d5-1be0a5453d51",
        "colab": {
          "base_uri": "https://localhost:8080/",
          "height": 401
        }
      },
      "source": [
        "sns.catplot(data=df1,x='Sentiment_values')\n",
        "#Plotting sentiment value distribution across phrase ids"
      ],
      "execution_count": 9,
      "outputs": [
        {
          "output_type": "execute_result",
          "data": {
            "text/plain": [
              "<seaborn.axisgrid.FacetGrid at 0x7f94c5000c50>"
            ]
          },
          "metadata": {
            "tags": []
          },
          "execution_count": 9
        },
        {
          "output_type": "display_data",
          "data": {
            "image/png": "[encoded data removed]",
            "text/plain": [
              "<Figure size 360x360 with 1 Axes>"
            ]
          },
          "metadata": {
            "tags": [],
            "needs_background": "light"
          }
        }
      ]
    },
    {
      "cell_type": "code",
      "metadata": {
        "id": "h4QxoZUaEA36"
      },
      "source": [
        "df1['Sentiment_values'] = df1['Sentiment_values'].apply(lambda x : float(x)) #data type of the sentiment values to be float"
      ],
      "execution_count": 10,
      "outputs": []
    },
    {
      "cell_type": "code",
      "metadata": {
        "id": "dP4gUVFr6vYW",
        "outputId": "2060a678-d1f8-425c-cff8-405e410985aa",
        "colab": {
          "base_uri": "https://localhost:8080/",
          "height": 34
        }
      },
      "source": [
        "len(df1[df1['Sentiment_values']>0.5].values)#computing the number of phrases which has sentiment values more than 0.5"
      ],
      "execution_count": 11,
      "outputs": [
        {
          "output_type": "execute_result",
          "data": {
            "text/plain": [
              "106181"
            ]
          },
          "metadata": {
            "tags": []
          },
          "execution_count": 11
        }
      ]
    },
    {
      "cell_type": "code",
      "metadata": {
        "id": "sdUBShwKDV8F",
        "outputId": "876b5707-e712-4144-e395-93115bfeaa33",
        "colab": {
          "base_uri": "https://localhost:8080/",
          "height": 34
        }
      },
      "source": [
        "len(df1[df1['Sentiment_values']<=0.5].values)#computing the number of phrases which has sentiment values less than or equal to 0.5"
      ],
      "execution_count": 12,
      "outputs": [
        {
          "output_type": "execute_result",
          "data": {
            "text/plain": [
              "133051"
            ]
          },
          "metadata": {
            "tags": []
          },
          "execution_count": 12
        }
      ]
    },
    {
      "cell_type": "code",
      "metadata": {
        "id": "bfDIHh9JDpSM",
        "outputId": "1ea7de29-0108-467e-d498-446e09073917",
        "colab": {
          "base_uri": "https://localhost:8080/",
          "height": 34
        }
      },
      "source": [
        "df1['Sentiment_values'][1]"
      ],
      "execution_count": 13,
      "outputs": [
        {
          "output_type": "execute_result",
          "data": {
            "text/plain": [
              "0.5"
            ]
          },
          "metadata": {
            "tags": []
          },
          "execution_count": 13
        }
      ]
    },
    {
      "cell_type": "code",
      "metadata": {
        "id": "_RMgv_sWDuXy",
        "outputId": "2ef070ff-8112-4343-80fe-fb2d4db8d651",
        "colab": {
          "base_uri": "https://localhost:8080/",
          "height": 34
        }
      },
      "source": [
        "106181+133051#total number of phrases"
      ],
      "execution_count": 14,
      "outputs": [
        {
          "output_type": "execute_result",
          "data": {
            "text/plain": [
              "239232"
            ]
          },
          "metadata": {
            "tags": []
          },
          "execution_count": 14
        }
      ]
    },
    {
      "cell_type": "code",
      "metadata": {
        "id": "QMt7C-7gE1-I",
        "outputId": "9b2c70e1-cb86-4092-d1f6-2b3493c421ce",
        "colab": {
          "base_uri": "https://localhost:8080/",
          "height": 314
        }
      },
      "source": [
        "df1.hist(bins=3)"
      ],
      "execution_count": 15,
      "outputs": [
        {
          "output_type": "execute_result",
          "data": {
            "text/plain": [
              "array([[<matplotlib.axes._subplots.AxesSubplot object at 0x7f94bea0cd68>]],\n",
              "      dtype=object)"
            ]
          },
          "metadata": {
            "tags": []
          },
          "execution_count": 15
        },
        {
          "output_type": "display_data",
          "data": {
            "image/png": "[encoded data removed]",
            "text/plain": [
              "<Figure size 432x288 with 1 Axes>"
            ]
          },
          "metadata": {
            "tags": [],
            "needs_background": "light"
          }
        }
      ]
    },
    {
      "cell_type": "code",
      "metadata": {
        "id": "hhgeLoNdcfi1",
        "outputId": "2562a2e7-3d3c-4161-e2ec-64bba396ee5e",
        "colab": {
          "base_uri": "https://localhost:8080/",
          "height": 34
        }
      },
      "source": [
        "df1.shape#phrase id and their sentiment values"
      ],
      "execution_count": 16,
      "outputs": [
        {
          "output_type": "execute_result",
          "data": {
            "text/plain": [
              "(239232, 2)"
            ]
          },
          "metadata": {
            "tags": []
          },
          "execution_count": 16
        }
      ]
    },
    {
      "cell_type": "code",
      "metadata": {
        "id": "0Si6Hd_Sesoa"
      },
      "source": [
        "fin4=open(\"dictionary.txt\",'rt',encoding='utf-8')\n",
        "s4 = {'phrases':[],'Phrase_id':[]}\n",
        "for line in fin4:\n",
        "  #pre-processing the data\n",
        "  s4['phrases'].append(line.split('|')[0])\n",
        "  #removing the \\n at the end of the every line \n",
        "  s4['Phrase_id'].append(line.split('|')[-1].rstrip('\\n'))\n",
        "df4 = pd.DataFrame(s4)"
      ],
      "execution_count": 21,
      "outputs": []
    },
    {
      "cell_type": "code",
      "metadata": {
        "id": "VuoHsfafpi1V",
        "outputId": "9518bc57-32ee-4989-b6b5-718fc97ee822",
        "colab": {
          "base_uri": "https://localhost:8080/",
          "height": 195
        }
      },
      "source": [
        "df4.head() #df4 contains the phrases and it's ids"
      ],
      "execution_count": 22,
      "outputs": [
        {
          "output_type": "execute_result",
          "data": {
            "text/html": [
              "<div>\n",
              "<style scoped>\n",
              "    .dataframe tbody tr th:only-of-type {\n",
              "        vertical-align: middle;\n",
              "    }\n",
              "\n",
              "    .dataframe tbody tr th {\n",
              "        vertical-align: top;\n",
              "    }\n",
              "\n",
              "    .dataframe thead th {\n",
              "        text-align: right;\n",
              "    }\n",
              "</style>\n",
              "<table border=\"1\" class=\"dataframe\">\n",
              "  <thead>\n",
              "    <tr style=\"text-align: right;\">\n",
              "      <th></th>\n",
              "      <th>phrases</th>\n",
              "      <th>Phrase_id</th>\n",
              "    </tr>\n",
              "  </thead>\n",
              "  <tbody>\n",
              "    <tr>\n",
              "      <th>0</th>\n",
              "      <td>!</td>\n",
              "      <td>0</td>\n",
              "    </tr>\n",
              "    <tr>\n",
              "      <th>1</th>\n",
              "      <td>! '</td>\n",
              "      <td>22935</td>\n",
              "    </tr>\n",
              "    <tr>\n",
              "      <th>2</th>\n",
              "      <td>! ''</td>\n",
              "      <td>18235</td>\n",
              "    </tr>\n",
              "    <tr>\n",
              "      <th>3</th>\n",
              "      <td>! Alas</td>\n",
              "      <td>179257</td>\n",
              "    </tr>\n",
              "    <tr>\n",
              "      <th>4</th>\n",
              "      <td>! Brilliant</td>\n",
              "      <td>22936</td>\n",
              "    </tr>\n",
              "  </tbody>\n",
              "</table>\n",
              "</div>"
            ],
            "text/plain": [
              "       phrases Phrase_id\n",
              "0            !         0\n",
              "1          ! '     22935\n",
              "2         ! ''     18235\n",
              "3       ! Alas    179257\n",
              "4  ! Brilliant     22936"
            ]
          },
          "metadata": {
            "tags": []
          },
          "execution_count": 22
        }
      ]
    },
    {
      "cell_type": "code",
      "metadata": {
        "id": "Ypf_jJRgpmoZ",
        "outputId": "fd25886a-a7cc-48b7-bda0-eef04482e72c",
        "colab": {
          "base_uri": "https://localhost:8080/",
          "height": 34
        }
      },
      "source": [
        "df4.shape"
      ],
      "execution_count": 23,
      "outputs": [
        {
          "output_type": "execute_result",
          "data": {
            "text/plain": [
              "(239232, 2)"
            ]
          },
          "metadata": {
            "tags": []
          },
          "execution_count": 23
        }
      ]
    },
    {
      "cell_type": "code",
      "metadata": {
        "id": "VSmmsdWtppiE"
      },
      "source": [
        "phrase_df = pd.merge(df4,df1,on='Phrase_id')#merging the 2 dataframes df1 and df2 on the basis of their phrase ids to form a super-dataframe"
      ],
      "execution_count": 24,
      "outputs": []
    },
    {
      "cell_type": "code",
      "metadata": {
        "id": "K7F77Fesq--A",
        "outputId": "c6e7c11b-891b-44cf-98ab-df0a8dcc8858",
        "colab": {
          "base_uri": "https://localhost:8080/",
          "height": 195
        }
      },
      "source": [
        "phrase_df.head()"
      ],
      "execution_count": 25,
      "outputs": [
        {
          "output_type": "execute_result",
          "data": {
            "text/html": [
              "<div>\n",
              "<style scoped>\n",
              "    .dataframe tbody tr th:only-of-type {\n",
              "        vertical-align: middle;\n",
              "    }\n",
              "\n",
              "    .dataframe tbody tr th {\n",
              "        vertical-align: top;\n",
              "    }\n",
              "\n",
              "    .dataframe thead th {\n",
              "        text-align: right;\n",
              "    }\n",
              "</style>\n",
              "<table border=\"1\" class=\"dataframe\">\n",
              "  <thead>\n",
              "    <tr style=\"text-align: right;\">\n",
              "      <th></th>\n",
              "      <th>phrases</th>\n",
              "      <th>Phrase_id</th>\n",
              "      <th>Sentiment_values</th>\n",
              "    </tr>\n",
              "  </thead>\n",
              "  <tbody>\n",
              "    <tr>\n",
              "      <th>0</th>\n",
              "      <td>!</td>\n",
              "      <td>0</td>\n",
              "      <td>0.50000</td>\n",
              "    </tr>\n",
              "    <tr>\n",
              "      <th>1</th>\n",
              "      <td>! '</td>\n",
              "      <td>22935</td>\n",
              "      <td>0.52778</td>\n",
              "    </tr>\n",
              "    <tr>\n",
              "      <th>2</th>\n",
              "      <td>! ''</td>\n",
              "      <td>18235</td>\n",
              "      <td>0.50000</td>\n",
              "    </tr>\n",
              "    <tr>\n",
              "      <th>3</th>\n",
              "      <td>! Alas</td>\n",
              "      <td>179257</td>\n",
              "      <td>0.44444</td>\n",
              "    </tr>\n",
              "    <tr>\n",
              "      <th>4</th>\n",
              "      <td>! Brilliant</td>\n",
              "      <td>22936</td>\n",
              "      <td>0.86111</td>\n",
              "    </tr>\n",
              "  </tbody>\n",
              "</table>\n",
              "</div>"
            ],
            "text/plain": [
              "       phrases Phrase_id  Sentiment_values\n",
              "0            !         0           0.50000\n",
              "1          ! '     22935           0.52778\n",
              "2         ! ''     18235           0.50000\n",
              "3       ! Alas    179257           0.44444\n",
              "4  ! Brilliant     22936           0.86111"
            ]
          },
          "metadata": {
            "tags": []
          },
          "execution_count": 25
        }
      ]
    },
    {
      "cell_type": "code",
      "metadata": {
        "id": "DUvQ7hxK-WaB",
        "outputId": "2011ca85-6ecf-4862-c7dc-655f6d090788",
        "colab": {
          "base_uri": "https://localhost:8080/",
          "height": 50
        }
      },
      "source": [
        "#importing nltk for getting the stopwords in the english-language-corpus\n",
        "import nltk\n",
        "nltk.download('stopwords')\n",
        "from nltk.corpus import stopwords \n",
        "\n",
        "stopword = stopwords.words('english')"
      ],
      "execution_count": 26,
      "outputs": [
        {
          "output_type": "stream",
          "text": [
            "[nltk_data] Downloading package stopwords to /root/nltk_data...\n",
            "[nltk_data]   Package stopwords is already up-to-date!\n"
          ],
          "name": "stdout"
        }
      ]
    },
    {
      "cell_type": "code",
      "metadata": {
        "id": "ue05Iqbe6qvm",
        "outputId": "920aec48-1e2b-4b7a-e6d0-4d40fde12cef",
        "colab": {
          "base_uri": "https://localhost:8080/",
          "height": 1000
        }
      },
      "source": [
        "stopword"
      ],
      "execution_count": 27,
      "outputs": [
        {
          "output_type": "execute_result",
          "data": {
            "text/plain": [
              "['i',\n",
              " 'me',\n",
              " 'my',\n",
              " 'myself',\n",
              " 'we',\n",
              " 'our',\n",
              " 'ours',\n",
              " 'ourselves',\n",
              " 'you',\n",
              " \"you're\",\n",
              " \"you've\",\n",
              " \"you'll\",\n",
              " \"you'd\",\n",
              " 'your',\n",
              " 'yours',\n",
              " 'yourself',\n",
              " 'yourselves',\n",
              " 'he',\n",
              " 'him',\n",
              " 'his',\n",
              " 'himself',\n",
              " 'she',\n",
              " \"she's\",\n",
              " 'her',\n",
              " 'hers',\n",
              " 'herself',\n",
              " 'it',\n",
              " \"it's\",\n",
              " 'its',\n",
              " 'itself',\n",
              " 'they',\n",
              " 'them',\n",
              " 'their',\n",
              " 'theirs',\n",
              " 'themselves',\n",
              " 'what',\n",
              " 'which',\n",
              " 'who',\n",
              " 'whom',\n",
              " 'this',\n",
              " 'that',\n",
              " \"that'll\",\n",
              " 'these',\n",
              " 'those',\n",
              " 'am',\n",
              " 'is',\n",
              " 'are',\n",
              " 'was',\n",
              " 'were',\n",
              " 'be',\n",
              " 'been',\n",
              " 'being',\n",
              " 'have',\n",
              " 'has',\n",
              " 'had',\n",
              " 'having',\n",
              " 'do',\n",
              " 'does',\n",
              " 'did',\n",
              " 'doing',\n",
              " 'a',\n",
              " 'an',\n",
              " 'the',\n",
              " 'and',\n",
              " 'but',\n",
              " 'if',\n",
              " 'or',\n",
              " 'because',\n",
              " 'as',\n",
              " 'until',\n",
              " 'while',\n",
              " 'of',\n",
              " 'at',\n",
              " 'by',\n",
              " 'for',\n",
              " 'with',\n",
              " 'about',\n",
              " 'against',\n",
              " 'between',\n",
              " 'into',\n",
              " 'through',\n",
              " 'during',\n",
              " 'before',\n",
              " 'after',\n",
              " 'above',\n",
              " 'below',\n",
              " 'to',\n",
              " 'from',\n",
              " 'up',\n",
              " 'down',\n",
              " 'in',\n",
              " 'out',\n",
              " 'on',\n",
              " 'off',\n",
              " 'over',\n",
              " 'under',\n",
              " 'again',\n",
              " 'further',\n",
              " 'then',\n",
              " 'once',\n",
              " 'here',\n",
              " 'there',\n",
              " 'when',\n",
              " 'where',\n",
              " 'why',\n",
              " 'how',\n",
              " 'all',\n",
              " 'any',\n",
              " 'both',\n",
              " 'each',\n",
              " 'few',\n",
              " 'more',\n",
              " 'most',\n",
              " 'other',\n",
              " 'some',\n",
              " 'such',\n",
              " 'no',\n",
              " 'nor',\n",
              " 'not',\n",
              " 'only',\n",
              " 'own',\n",
              " 'same',\n",
              " 'so',\n",
              " 'than',\n",
              " 'too',\n",
              " 'very',\n",
              " 's',\n",
              " 't',\n",
              " 'can',\n",
              " 'will',\n",
              " 'just',\n",
              " 'don',\n",
              " \"don't\",\n",
              " 'should',\n",
              " \"should've\",\n",
              " 'now',\n",
              " 'd',\n",
              " 'll',\n",
              " 'm',\n",
              " 'o',\n",
              " 're',\n",
              " 've',\n",
              " 'y',\n",
              " 'ain',\n",
              " 'aren',\n",
              " \"aren't\",\n",
              " 'couldn',\n",
              " \"couldn't\",\n",
              " 'didn',\n",
              " \"didn't\",\n",
              " 'doesn',\n",
              " \"doesn't\",\n",
              " 'hadn',\n",
              " \"hadn't\",\n",
              " 'hasn',\n",
              " \"hasn't\",\n",
              " 'haven',\n",
              " \"haven't\",\n",
              " 'isn',\n",
              " \"isn't\",\n",
              " 'ma',\n",
              " 'mightn',\n",
              " \"mightn't\",\n",
              " 'mustn',\n",
              " \"mustn't\",\n",
              " 'needn',\n",
              " \"needn't\",\n",
              " 'shan',\n",
              " \"shan't\",\n",
              " 'shouldn',\n",
              " \"shouldn't\",\n",
              " 'wasn',\n",
              " \"wasn't\",\n",
              " 'weren',\n",
              " \"weren't\",\n",
              " 'won',\n",
              " \"won't\",\n",
              " 'wouldn',\n",
              " \"wouldn't\"]"
            ]
          },
          "metadata": {
            "tags": []
          },
          "execution_count": 27
        }
      ]
    },
    {
      "cell_type": "code",
      "metadata": {
        "id": "6Uq7Znpf-OAj"
      },
      "source": [
        "#importing string to remove the punctuations that exists as a word itself\n",
        "import string\n",
        "phrase_df['phrases'] = phrase_df['phrases'].apply(lambda line:line.lower())\n",
        "phrase_df['phrases'] = phrase_df['phrases'].apply(lambda line:[wrd.lower() for wrd in line.split()[1:] if wrd.lower() not in stopword and wrd not in string.punctuation and wrd not in ['\\'s']])\n",
        "# starting from index 1 cuz to avoid the few punctuations in the beginning"
      ],
      "execution_count": 28,
      "outputs": []
    },
    {
      "cell_type": "code",
      "metadata": {
        "id": "sl_5YUn0rAQx",
        "outputId": "9043c479-5166-410d-f525-0ebb274bc5ab",
        "colab": {
          "base_uri": "https://localhost:8080/",
          "height": 118
        }
      },
      "source": [
        "#removing empty lists \n",
        "print('Before removing the empty lists',phrase_df.shape[0])\n",
        "phrase_df = phrase_df[phrase_df['phrases'].map(lambda d: len(d)) > 0]\n",
        "print('After removing the empty lists',phrase_df.shape[0])\n",
        "#removing the duplicates\n",
        "print('Before removing the duplicates',phrase_df.shape[0])\n",
        "phrase_df['phrases_i'] = phrase_df.phrases.apply(lambda x: tuple(x))\n",
        "phrase_df.drop_duplicates(subset='phrases_i',keep='first',inplace=True)\n",
        "print('After removing the duplicates',phrase_df.shape[0])\n",
        "#converting list to a str\n",
        "phrase_df['phrases'] = phrase_df['phrases'].apply(lambda line: \" \".join(line))\n",
        "print(\"Before dropping the missing values, missing values:\",phrase_df['Sentiment_values'].isnull().sum().sum())\n",
        "phrase_df.dropna(inplace=True)\n",
        "print(\"After dropping the missing values, missing values:\",phrase_df['Sentiment_values'].isnull().sum().sum())\n",
        "\n",
        "\n",
        "phrase_df.reset_index(inplace=True)\n",
        "phrases= list(phrase_df['phrases'])\n",
        "sentiment = list(phrase_df['Sentiment_values'])"
      ],
      "execution_count": 29,
      "outputs": [
        {
          "output_type": "stream",
          "text": [
            "Before removing the empty lists 239232\n",
            "After removing the empty lists 208469\n",
            "Before removing the duplicates 208469\n",
            "After removing the duplicates 103070\n",
            "Before dropping the missing values, missing values: 0\n",
            "After dropping the missing values, missing values: 0\n"
          ],
          "name": "stdout"
        }
      ]
    },
    {
      "cell_type": "code",
      "metadata": {
        "id": "1B-bng5MZmc9",
        "outputId": "e6a69baf-8349-466a-f370-6cd4959fd62e",
        "colab": {
          "base_uri": "https://localhost:8080/",
          "height": 168
        }
      },
      "source": [
        "phrase_df['Sentiment_values'].describe()"
      ],
      "execution_count": 30,
      "outputs": [
        {
          "output_type": "execute_result",
          "data": {
            "text/plain": [
              "count    103070.000000\n",
              "mean          0.513612\n",
              "std           0.189026\n",
              "min           0.000000\n",
              "25%           0.388890\n",
              "50%           0.500000\n",
              "75%           0.638890\n",
              "max           1.000000\n",
              "Name: Sentiment_values, dtype: float64"
            ]
          },
          "metadata": {
            "tags": []
          },
          "execution_count": 30
        }
      ]
    },
    {
      "cell_type": "code",
      "metadata": {
        "id": "SP0uo4kK33-s",
        "outputId": "ab3f03c0-778a-44ae-ec4f-495b98b13b61",
        "colab": {
          "base_uri": "https://localhost:8080/",
          "height": 34
        }
      },
      "source": [
        "len(phrases)"
      ],
      "execution_count": 31,
      "outputs": [
        {
          "output_type": "execute_result",
          "data": {
            "text/plain": [
              "103070"
            ]
          },
          "metadata": {
            "tags": []
          },
          "execution_count": 31
        }
      ]
    },
    {
      "cell_type": "code",
      "metadata": {
        "id": "gkHRPOsL360k",
        "outputId": "e46e4acb-b263-4947-f189-d8ecd8cab92e",
        "colab": {
          "base_uri": "https://localhost:8080/",
          "height": 34
        }
      },
      "source": [
        "len(sentiment)"
      ],
      "execution_count": 32,
      "outputs": [
        {
          "output_type": "execute_result",
          "data": {
            "text/plain": [
              "103070"
            ]
          },
          "metadata": {
            "tags": []
          },
          "execution_count": 32
        }
      ]
    },
    {
      "cell_type": "code",
      "metadata": {
        "id": "TPcQsrL1C8sc",
        "outputId": "63911e94-c44e-42b4-9356-4d9c18941eb5",
        "colab": {
          "base_uri": "https://localhost:8080/",
          "height": 195
        }
      },
      "source": [
        "phrase_df = phrase_df.drop(['index'],axis=1)\n",
        "phrase_df.head()"
      ],
      "execution_count": 33,
      "outputs": [
        {
          "output_type": "execute_result",
          "data": {
            "text/html": [
              "<div>\n",
              "<style scoped>\n",
              "    .dataframe tbody tr th:only-of-type {\n",
              "        vertical-align: middle;\n",
              "    }\n",
              "\n",
              "    .dataframe tbody tr th {\n",
              "        vertical-align: top;\n",
              "    }\n",
              "\n",
              "    .dataframe thead th {\n",
              "        text-align: right;\n",
              "    }\n",
              "</style>\n",
              "<table border=\"1\" class=\"dataframe\">\n",
              "  <thead>\n",
              "    <tr style=\"text-align: right;\">\n",
              "      <th></th>\n",
              "      <th>phrases</th>\n",
              "      <th>Phrase_id</th>\n",
              "      <th>Sentiment_values</th>\n",
              "      <th>phrases_i</th>\n",
              "    </tr>\n",
              "  </thead>\n",
              "  <tbody>\n",
              "    <tr>\n",
              "      <th>0</th>\n",
              "      <td>''</td>\n",
              "      <td>18235</td>\n",
              "      <td>0.50000</td>\n",
              "      <td>('',)</td>\n",
              "    </tr>\n",
              "    <tr>\n",
              "      <th>1</th>\n",
              "      <td>alas</td>\n",
              "      <td>179257</td>\n",
              "      <td>0.44444</td>\n",
              "      <td>(alas,)</td>\n",
              "    </tr>\n",
              "    <tr>\n",
              "      <th>2</th>\n",
              "      <td>brilliant</td>\n",
              "      <td>22936</td>\n",
              "      <td>0.86111</td>\n",
              "      <td>(brilliant,)</td>\n",
              "    </tr>\n",
              "    <tr>\n",
              "      <th>3</th>\n",
              "      <td>c'mon</td>\n",
              "      <td>60624</td>\n",
              "      <td>0.47222</td>\n",
              "      <td>(c'mon,)</td>\n",
              "    </tr>\n",
              "    <tr>\n",
              "      <th>4</th>\n",
              "      <td>gollum performance incredible</td>\n",
              "      <td>13402</td>\n",
              "      <td>0.76389</td>\n",
              "      <td>(gollum, performance, incredible)</td>\n",
              "    </tr>\n",
              "  </tbody>\n",
              "</table>\n",
              "</div>"
            ],
            "text/plain": [
              "                         phrases  ...                          phrases_i\n",
              "0                             ''  ...                              ('',)\n",
              "1                           alas  ...                            (alas,)\n",
              "2                      brilliant  ...                       (brilliant,)\n",
              "3                          c'mon  ...                           (c'mon,)\n",
              "4  gollum performance incredible  ...  (gollum, performance, incredible)\n",
              "\n",
              "[5 rows x 4 columns]"
            ]
          },
          "metadata": {
            "tags": []
          },
          "execution_count": 33
        }
      ]
    },
    {
      "cell_type": "code",
      "metadata": {
        "id": "26xzXY57_T05",
        "outputId": "e7f8bee4-d93a-408c-d04c-7c1b2cc28c99",
        "colab": {
          "base_uri": "https://localhost:8080/",
          "height": 35
        }
      },
      "source": [
        "phrases[4]"
      ],
      "execution_count": 34,
      "outputs": [
        {
          "output_type": "execute_result",
          "data": {
            "application/vnd.google.colaboratory.intrinsic+json": {
              "type": "string"
            },
            "text/plain": [
              "'gollum performance incredible'"
            ]
          },
          "metadata": {
            "tags": []
          },
          "execution_count": 34
        }
      ]
    },
    {
      "cell_type": "code",
      "metadata": {
        "id": "dQUL2yA838k0"
      },
      "source": [
        "# word vectorizing the phrases using the CountVectorizer\n",
        "from sklearn.feature_extraction.text import CountVectorizer\n",
        "bow_transformer = CountVectorizer(lowercase=False).fit(phrase_df['phrases'])\n",
        "bow = bow_transformer.transform(phrase_df['phrases'])"
      ],
      "execution_count": 35,
      "outputs": []
    },
    {
      "cell_type": "code",
      "metadata": {
        "id": "fHrHL7dl7oF6"
      },
      "source": [
        "# Passing the bow to the term frequency - inverse document frequency\n",
        "from sklearn.feature_extraction.text import TfidfTransformer\n",
        "tf_transformer = TfidfTransformer().fit(bow)\n",
        "X_tf = tf_transformer.transform(bow)"
      ],
      "execution_count": 36,
      "outputs": []
    },
    {
      "cell_type": "code",
      "metadata": {
        "id": "y4OirygzQL-i",
        "outputId": "cb099fa1-af30-4eff-8409-c238fc62f829",
        "colab": {
          "base_uri": "https://localhost:8080/",
          "height": 134
        }
      },
      "source": [
        "# Using Random forest regressor for predicting the sentiment values\n",
        "from sklearn.ensemble import RandomForestRegressor\n",
        "regr = RandomForestRegressor(max_depth=15, random_state=42)\n",
        "regr.fit(X_tf, sentiment)"
      ],
      "execution_count": 37,
      "outputs": [
        {
          "output_type": "execute_result",
          "data": {
            "text/plain": [
              "RandomForestRegressor(bootstrap=True, ccp_alpha=0.0, criterion='mse',\n",
              "                      max_depth=15, max_features='auto', max_leaf_nodes=None,\n",
              "                      max_samples=None, min_impurity_decrease=0.0,\n",
              "                      min_impurity_split=None, min_samples_leaf=1,\n",
              "                      min_samples_split=2, min_weight_fraction_leaf=0.0,\n",
              "                      n_estimators=100, n_jobs=None, oob_score=False,\n",
              "                      random_state=42, verbose=0, warm_start=False)"
            ]
          },
          "metadata": {
            "tags": []
          },
          "execution_count": 37
        }
      ]
    },
    {
      "cell_type": "code",
      "metadata": {
        "id": "gSicKyAADSlw"
      },
      "source": [
        "#reading the scrapped csv file into a dataframe called inp\n",
        "inp = pd.read_csv('Scraping reviews_1_new.csv')\n",
        "inp['reviews']=inp['reviews'].astype(str)\n",
        "inp['mobile']=inp['mobile'].astype(str)"
      ],
      "execution_count": 97,
      "outputs": []
    },
    {
      "cell_type": "code",
      "metadata": {
        "id": "OcbktbIvoJQs",
        "outputId": "1611a549-1886-4fd5-82a5-7cc0b169fec0",
        "colab": {
          "base_uri": "https://localhost:8080/",
          "height": 195
        }
      },
      "source": [
        "inp.head()"
      ],
      "execution_count": 98,
      "outputs": [
        {
          "output_type": "execute_result",
          "data": {
            "text/html": [
              "<div>\n",
              "<style scoped>\n",
              "    .dataframe tbody tr th:only-of-type {\n",
              "        vertical-align: middle;\n",
              "    }\n",
              "\n",
              "    .dataframe tbody tr th {\n",
              "        vertical-align: top;\n",
              "    }\n",
              "\n",
              "    .dataframe thead th {\n",
              "        text-align: right;\n",
              "    }\n",
              "</style>\n",
              "<table border=\"1\" class=\"dataframe\">\n",
              "  <thead>\n",
              "    <tr style=\"text-align: right;\">\n",
              "      <th></th>\n",
              "      <th>reviews</th>\n",
              "      <th>mobile</th>\n",
              "    </tr>\n",
              "  </thead>\n",
              "  <tbody>\n",
              "    <tr>\n",
              "      <th>0</th>\n",
              "      <td>\\n\\n   Defective product shipped.. reported wi...</td>\n",
              "      <td>Redmi 8A Dual (Sea Blue, 2GB RAM, 32GB Storage...</td>\n",
              "    </tr>\n",
              "    <tr>\n",
              "      <th>1</th>\n",
              "      <td>\\n\\n  Nice phone camera better attractive look...</td>\n",
              "      <td>Redmi 8A Dual (Sea Blue, 2GB RAM, 32GB Storage...</td>\n",
              "    </tr>\n",
              "    <tr>\n",
              "      <th>2</th>\n",
              "      <td>\\n\\n  Design-GoodCamera-NiceDisplay-satisfacto...</td>\n",
              "      <td>Redmi 8A Dual (Sea Blue, 2GB RAM, 32GB Storage...</td>\n",
              "    </tr>\n",
              "    <tr>\n",
              "      <th>3</th>\n",
              "      <td>\\n\\n  The headphone jack is not working  😡 Des...</td>\n",
              "      <td>Redmi 8A Dual (Sea Blue, 2GB RAM, 32GB Storage...</td>\n",
              "    </tr>\n",
              "    <tr>\n",
              "      <th>4</th>\n",
              "      <td>\\n\\n  First sell, First order. Mobile is very ...</td>\n",
              "      <td>Redmi 8A Dual (Sea Blue, 2GB RAM, 32GB Storage...</td>\n",
              "    </tr>\n",
              "  </tbody>\n",
              "</table>\n",
              "</div>"
            ],
            "text/plain": [
              "                                             reviews                                             mobile\n",
              "0  \\n\\n   Defective product shipped.. reported wi...  Redmi 8A Dual (Sea Blue, 2GB RAM, 32GB Storage...\n",
              "1  \\n\\n  Nice phone camera better attractive look...  Redmi 8A Dual (Sea Blue, 2GB RAM, 32GB Storage...\n",
              "2  \\n\\n  Design-GoodCamera-NiceDisplay-satisfacto...  Redmi 8A Dual (Sea Blue, 2GB RAM, 32GB Storage...\n",
              "3  \\n\\n  The headphone jack is not working  😡 Des...  Redmi 8A Dual (Sea Blue, 2GB RAM, 32GB Storage...\n",
              "4  \\n\\n  First sell, First order. Mobile is very ...  Redmi 8A Dual (Sea Blue, 2GB RAM, 32GB Storage..."
            ]
          },
          "metadata": {
            "tags": []
          },
          "execution_count": 98
        }
      ]
    },
    {
      "cell_type": "code",
      "metadata": {
        "id": "sng9o4EfDa7g"
      },
      "source": [
        "#Pre-processing the data\n",
        "inp['reviews'] = inp['reviews'].apply(lambda line:line.lower().strip('\\n\\n'))"
      ],
      "execution_count": 99,
      "outputs": []
    },
    {
      "cell_type": "code",
      "metadata": {
        "id": "jsKkuXWPExRP"
      },
      "source": [
        "inp['reviews'] = inp['reviews'].apply(lambda line:[wrd.lower() for wrd in line.split()[1:] if wrd.lower() not in stopword and wrd not in string.punctuation and wrd not in ['\\'s']])"
      ],
      "execution_count": 100,
      "outputs": []
    },
    {
      "cell_type": "code",
      "metadata": {
        "id": "cZKo6W3EFccg",
        "outputId": "eda2e0f0-52cc-4745-8618-b70685842868",
        "colab": {
          "base_uri": "https://localhost:8080/",
          "height": 339
        }
      },
      "source": [
        "#removing empty lists \n",
        "print('Before removing the empty lists',inp.shape[0])\n",
        "inp = inp[inp['reviews'].map(lambda d: len(d)) > 0]\n",
        "print('After removing the empty lists',inp.shape[0])\n",
        "#removing the duplicates\n",
        "print('Before removing the duplicates',inp.shape[0])\n",
        "inp['reviews_i'] = inp.reviews.apply(lambda x: tuple(x))\n",
        "inp.drop_duplicates(subset='reviews_i',keep='first',inplace=True)\n",
        "print('After removing the dupicates',inp.shape[0])\n",
        "inp['reviews'] = inp['reviews'].apply(lambda line: \" \".join(line))\n",
        "inp.reset_index"
      ],
      "execution_count": 101,
      "outputs": [
        {
          "output_type": "stream",
          "text": [
            "Before removing the empty lists 23417\n",
            "After removing the empty lists 22003\n",
            "Before removing the duplicates 22003\n",
            "After removing the dupicates 10090\n"
          ],
          "name": "stdout"
        },
        {
          "output_type": "execute_result",
          "data": {
            "text/plain": [
              "<bound method DataFrame.reset_index of                                                  reviews  ...                                          reviews_i\n",
              "0      product shipped.. reported within hours receip...  ...  (product, shipped.., reported, within, hours, ...\n",
              "1                    phone camera better attractive look  ...          (phone, camera, better, attractive, look)\n",
              "2          backup-up markoverall-must phone redmi lovers  ...  (backup-up, markoverall-must, phone, redmi, lo...\n",
              "3      headphone jack working 😡 despite customer care...  ...  (headphone, jack, working, 😡, despite, custome...\n",
              "4                      sell, first order. mobile nice...  ...            (sell,, first, order., mobile, nice...)\n",
              "...                                                  ...  ...                                                ...\n",
              "23409  first question nokia that, buy scrap ₹3400/- ?...  ...  (first, question, nokia, that,, buy, scrap, ₹3...\n",
              "23410  wants loot people again. want go stone age aga...  ...  (wants, loot, people, again., want, go, stone,...\n",
              "23411                             quality feature phone.  ...                         (quality, feature, phone.)\n",
              "23414  excellent phone ,,good batterygood displaygood...  ...  (excellent, phone, ,,good, batterygood, displa...\n",
              "23416  good sound quality avarage high price better b...  ...  (good, sound, quality, avarage, high, price, b...\n",
              "\n",
              "[10090 rows x 3 columns]>"
            ]
          },
          "metadata": {
            "tags": []
          },
          "execution_count": 101
        }
      ]
    },
    {
      "cell_type": "code",
      "metadata": {
        "id": "JFqpRviGUEN1"
      },
      "source": [
        "#prediction\n",
        "pred_input = bow_transformer.transform(inp['reviews'])\n",
        "pred_input_tf = tf_transformer.transform(pred_input)\n",
        "p = regr.predict(pred_input_tf)"
      ],
      "execution_count": 102,
      "outputs": []
    },
    {
      "cell_type": "code",
      "metadata": {
        "id": "J5x-rkMGV1aL",
        "outputId": "877532b6-9304-4b27-900f-df102b57d5bb",
        "colab": {
          "base_uri": "https://localhost:8080/",
          "height": 50
        }
      },
      "source": [
        "p"
      ],
      "execution_count": 103,
      "outputs": [
        {
          "output_type": "execute_result",
          "data": {
            "text/plain": [
              "array([0.51017151, 0.51017151, 0.51017151, ..., 0.51017151, 0.54295228,\n",
              "       0.52764235])"
            ]
          },
          "metadata": {
            "tags": []
          },
          "execution_count": 103
        }
      ]
    },
    {
      "cell_type": "code",
      "metadata": {
        "id": "WvWh5qQeWCHA",
        "outputId": "a8ffae47-d7cd-4734-e7cb-b1e69bbe7f5c",
        "colab": {
          "base_uri": "https://localhost:8080/",
          "height": 34
        }
      },
      "source": [
        "p.max()"
      ],
      "execution_count": 104,
      "outputs": [
        {
          "output_type": "execute_result",
          "data": {
            "text/plain": [
              "0.9347052004991984"
            ]
          },
          "metadata": {
            "tags": []
          },
          "execution_count": 104
        }
      ]
    },
    {
      "cell_type": "code",
      "metadata": {
        "id": "vsoN_ZfEGc8c",
        "outputId": "03e88056-0e33-477e-8b17-681c0ee682fd",
        "colab": {
          "base_uri": "https://localhost:8080/",
          "height": 34
        }
      },
      "source": [
        "inp.shape"
      ],
      "execution_count": 105,
      "outputs": [
        {
          "output_type": "execute_result",
          "data": {
            "text/plain": [
              "(10090, 3)"
            ]
          },
          "metadata": {
            "tags": []
          },
          "execution_count": 105
        }
      ]
    },
    {
      "cell_type": "code",
      "metadata": {
        "id": "QDAdtJumoasB"
      },
      "source": [
        "inp['Sentiment_values'] = pd.Series(p)\n",
        "inp = inp.drop(['reviews_i'],axis=1)"
      ],
      "execution_count": 106,
      "outputs": []
    },
    {
      "cell_type": "code",
      "metadata": {
        "id": "CZmc-2floc6b",
        "outputId": "d9ca29f0-5762-424e-f123-70dde8ad5a45",
        "colab": {
          "base_uri": "https://localhost:8080/",
          "height": 195
        }
      },
      "source": [
        "inp.head()"
      ],
      "execution_count": 107,
      "outputs": [
        {
          "output_type": "execute_result",
          "data": {
            "text/html": [
              "<div>\n",
              "<style scoped>\n",
              "    .dataframe tbody tr th:only-of-type {\n",
              "        vertical-align: middle;\n",
              "    }\n",
              "\n",
              "    .dataframe tbody tr th {\n",
              "        vertical-align: top;\n",
              "    }\n",
              "\n",
              "    .dataframe thead th {\n",
              "        text-align: right;\n",
              "    }\n",
              "</style>\n",
              "<table border=\"1\" class=\"dataframe\">\n",
              "  <thead>\n",
              "    <tr style=\"text-align: right;\">\n",
              "      <th></th>\n",
              "      <th>reviews</th>\n",
              "      <th>mobile</th>\n",
              "      <th>Sentiment_values</th>\n",
              "    </tr>\n",
              "  </thead>\n",
              "  <tbody>\n",
              "    <tr>\n",
              "      <th>0</th>\n",
              "      <td>product shipped.. reported within hours receip...</td>\n",
              "      <td>Redmi 8A Dual (Sea Blue, 2GB RAM, 32GB Storage...</td>\n",
              "      <td>0.510172</td>\n",
              "    </tr>\n",
              "    <tr>\n",
              "      <th>1</th>\n",
              "      <td>phone camera better attractive look</td>\n",
              "      <td>Redmi 8A Dual (Sea Blue, 2GB RAM, 32GB Storage...</td>\n",
              "      <td>0.510172</td>\n",
              "    </tr>\n",
              "    <tr>\n",
              "      <th>2</th>\n",
              "      <td>backup-up markoverall-must phone redmi lovers</td>\n",
              "      <td>Redmi 8A Dual (Sea Blue, 2GB RAM, 32GB Storage...</td>\n",
              "      <td>0.510172</td>\n",
              "    </tr>\n",
              "    <tr>\n",
              "      <th>3</th>\n",
              "      <td>headphone jack working 😡 despite customer care...</td>\n",
              "      <td>Redmi 8A Dual (Sea Blue, 2GB RAM, 32GB Storage...</td>\n",
              "      <td>0.510172</td>\n",
              "    </tr>\n",
              "    <tr>\n",
              "      <th>4</th>\n",
              "      <td>sell, first order. mobile nice...</td>\n",
              "      <td>Redmi 8A Dual (Sea Blue, 2GB RAM, 32GB Storage...</td>\n",
              "      <td>0.510172</td>\n",
              "    </tr>\n",
              "  </tbody>\n",
              "</table>\n",
              "</div>"
            ],
            "text/plain": [
              "                                             reviews  ... Sentiment_values\n",
              "0  product shipped.. reported within hours receip...  ...         0.510172\n",
              "1                phone camera better attractive look  ...         0.510172\n",
              "2      backup-up markoverall-must phone redmi lovers  ...         0.510172\n",
              "3  headphone jack working 😡 despite customer care...  ...         0.510172\n",
              "4                  sell, first order. mobile nice...  ...         0.510172\n",
              "\n",
              "[5 rows x 3 columns]"
            ]
          },
          "metadata": {
            "tags": []
          },
          "execution_count": 107
        }
      ]
    },
    {
      "cell_type": "code",
      "metadata": {
        "id": "kpmrglkNpI3A",
        "outputId": "688fbfc7-aef3-4193-bbdb-000467cc657e",
        "colab": {
          "base_uri": "https://localhost:8080/",
          "height": 168
        }
      },
      "source": [
        "inp['Sentiment_values'].describe()"
      ],
      "execution_count": 108,
      "outputs": [
        {
          "output_type": "execute_result",
          "data": {
            "text/plain": [
              "count    4800.000000\n",
              "mean        0.512364\n",
              "std         0.081898\n",
              "min         0.101129\n",
              "25%         0.510172\n",
              "50%         0.510172\n",
              "75%         0.527642\n",
              "max         0.934705\n",
              "Name: Sentiment_values, dtype: float64"
            ]
          },
          "metadata": {
            "tags": []
          },
          "execution_count": 108
        }
      ]
    },
    {
      "cell_type": "code",
      "metadata": {
        "id": "CT9KqoZipaY9",
        "outputId": "ec6e6b5b-4044-4b11-caaa-18da4cb90748",
        "colab": {
          "base_uri": "https://localhost:8080/",
          "height": 312
        }
      },
      "source": [
        "x =inp['Sentiment_values']\n",
        "plt.title('Histogram plot of sentiment values of reviews of the phones')\n",
        "plt.xlabel('Sentiment value of reviews')\n",
        "plt.ylabel('Frequency')\n",
        "plt.hist(x, bins = 5)\n",
        "plt.show()\n",
        "\n",
        "\n",
        "print('From this histogram, I can infer that the maximum number of reviews(approximately 4200) hace a sentiment value between 0.42 to 0.78 roughly.')"
      ],
      "execution_count": 116,
      "outputs": [
        {
          "output_type": "display_data",
          "data": {
            "image/png": "[encoded data removed]",
            "text/plain": [
              "<Figure size 432x288 with 1 Axes>"
            ]
          },
          "metadata": {
            "tags": [],
            "needs_background": "light"
          }
        },
        {
          "output_type": "stream",
          "text": [
            "From this histogram, I can infer that the maximum number of reviews(approximately 4200) hace a sentiment value between 0.42 to 0.78 roughly.\n"
          ],
          "name": "stdout"
        }
      ]
    },
    {
      "cell_type": "code",
      "metadata": {
        "id": "q6mhTym11YBX",
        "outputId": "d69088bd-bc9c-45fa-a27a-bfdc46631e85",
        "colab": {
          "base_uri": "https://localhost:8080/",
          "height": 34
        }
      },
      "source": [
        "#Removing rows with null values\n",
        "inp.dropna(inplace=True)\n",
        "inp.shape\n"
      ],
      "execution_count": 113,
      "outputs": [
        {
          "output_type": "execute_result",
          "data": {
            "text/plain": [
              "(4800, 3)"
            ]
          },
          "metadata": {
            "tags": []
          },
          "execution_count": 113
        }
      ]
    },
    {
      "cell_type": "code",
      "metadata": {
        "id": "dgmXRy6u9ip7",
        "outputId": "71c19ee9-92cb-4ab4-849d-8e91a1d77242",
        "colab": {
          "base_uri": "https://localhost:8080/",
          "height": 402
        }
      },
      "source": [
        "inp.groupby('mobile', as_index=False)['Sentiment_values'].mean()"
      ],
      "execution_count": 114,
      "outputs": [
        {
          "output_type": "execute_result",
          "data": {
            "text/html": [
              "<div>\n",
              "<style scoped>\n",
              "    .dataframe tbody tr th:only-of-type {\n",
              "        vertical-align: middle;\n",
              "    }\n",
              "\n",
              "    .dataframe tbody tr th {\n",
              "        vertical-align: top;\n",
              "    }\n",
              "\n",
              "    .dataframe thead th {\n",
              "        text-align: right;\n",
              "    }\n",
              "</style>\n",
              "<table border=\"1\" class=\"dataframe\">\n",
              "  <thead>\n",
              "    <tr style=\"text-align: right;\">\n",
              "      <th></th>\n",
              "      <th>mobile</th>\n",
              "      <th>Sentiment_values</th>\n",
              "    </tr>\n",
              "  </thead>\n",
              "  <tbody>\n",
              "    <tr>\n",
              "      <th>0</th>\n",
              "      <td>OPPO A5 2020 (Dazzling White, 4GB RAM, 64GB St...</td>\n",
              "      <td>0.515664</td>\n",
              "    </tr>\n",
              "    <tr>\n",
              "      <th>1</th>\n",
              "      <td>OPPO A5 2020 (Mirror Black, 3GB RAM, 64GB Stor...</td>\n",
              "      <td>0.525390</td>\n",
              "    </tr>\n",
              "    <tr>\n",
              "      <th>2</th>\n",
              "      <td>Panasonic Eluga i7 (2GB RAM, 16GB Storage, Fin...</td>\n",
              "      <td>0.504566</td>\n",
              "    </tr>\n",
              "    <tr>\n",
              "      <th>3</th>\n",
              "      <td>Redmi 8A Dual (Midnight Grey, 2GB RAM, 32GB St...</td>\n",
              "      <td>0.528839</td>\n",
              "    </tr>\n",
              "    <tr>\n",
              "      <th>4</th>\n",
              "      <td>Redmi 8A Dual (Sea Blue, 2GB RAM, 32GB Storage...</td>\n",
              "      <td>0.505543</td>\n",
              "    </tr>\n",
              "    <tr>\n",
              "      <th>5</th>\n",
              "      <td>Redmi 8A Dual (Sky White, 2GB RAM, 32GB Storag...</td>\n",
              "      <td>0.498265</td>\n",
              "    </tr>\n",
              "    <tr>\n",
              "      <th>6</th>\n",
              "      <td>Samsung Galaxy M01 Core (Black, 2GB RAM, 32GB ...</td>\n",
              "      <td>0.515569</td>\n",
              "    </tr>\n",
              "    <tr>\n",
              "      <th>7</th>\n",
              "      <td>Samsung Galaxy M01 Core (Blue, 2GB RAM, 32GB S...</td>\n",
              "      <td>0.517668</td>\n",
              "    </tr>\n",
              "    <tr>\n",
              "      <th>8</th>\n",
              "      <td>Samsung Galaxy M21 (Midnight Blue, 4GB RAM, 64...</td>\n",
              "      <td>0.520165</td>\n",
              "    </tr>\n",
              "    <tr>\n",
              "      <th>9</th>\n",
              "      <td>Samsung Galaxy M21 (Midnight Blue, 6GB RAM, 12...</td>\n",
              "      <td>0.488718</td>\n",
              "    </tr>\n",
              "    <tr>\n",
              "      <th>10</th>\n",
              "      <td>Samsung Galaxy M21 (Raven Black, 4GB RAM, 64GB...</td>\n",
              "      <td>0.511639</td>\n",
              "    </tr>\n",
              "    <tr>\n",
              "      <th>11</th>\n",
              "      <td>Samsung Galaxy M31 (Ocean Blue, 6GB RAM, 128GB...</td>\n",
              "      <td>0.512246</td>\n",
              "    </tr>\n",
              "  </tbody>\n",
              "</table>\n",
              "</div>"
            ],
            "text/plain": [
              "                                               mobile  Sentiment_values\n",
              "0   OPPO A5 2020 (Dazzling White, 4GB RAM, 64GB St...          0.515664\n",
              "1   OPPO A5 2020 (Mirror Black, 3GB RAM, 64GB Stor...          0.525390\n",
              "2   Panasonic Eluga i7 (2GB RAM, 16GB Storage, Fin...          0.504566\n",
              "3   Redmi 8A Dual (Midnight Grey, 2GB RAM, 32GB St...          0.528839\n",
              "4   Redmi 8A Dual (Sea Blue, 2GB RAM, 32GB Storage...          0.505543\n",
              "5   Redmi 8A Dual (Sky White, 2GB RAM, 32GB Storag...          0.498265\n",
              "6   Samsung Galaxy M01 Core (Black, 2GB RAM, 32GB ...          0.515569\n",
              "7   Samsung Galaxy M01 Core (Blue, 2GB RAM, 32GB S...          0.517668\n",
              "8   Samsung Galaxy M21 (Midnight Blue, 4GB RAM, 64...          0.520165\n",
              "9   Samsung Galaxy M21 (Midnight Blue, 6GB RAM, 12...          0.488718\n",
              "10  Samsung Galaxy M21 (Raven Black, 4GB RAM, 64GB...          0.511639\n",
              "11  Samsung Galaxy M31 (Ocean Blue, 6GB RAM, 128GB...          0.512246"
            ]
          },
          "metadata": {
            "tags": []
          },
          "execution_count": 114
        }
      ]
    },
    {
      "cell_type": "code",
      "metadata": {
        "id": "sXe1O2kI9R7B"
      },
      "source": [
        "inp.to_csv('Submission_1.csv')"
      ],
      "execution_count": 117,
      "outputs": []
    },
    {
      "cell_type": "code",
      "metadata": {
        "id": "LrdaNm4UDKB9"
      },
      "source": [
        ""
      ],
      "execution_count": null,
      "outputs": []
    }
  ]
}